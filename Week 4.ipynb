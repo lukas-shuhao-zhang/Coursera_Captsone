{
 "cells": [
  {
   "cell_type": "markdown",
   "metadata": {},
   "source": [
    "# Coursera Capstone Project - The Battle of Neighborhoods"
   ]
  },
  {
   "cell_type": "markdown",
   "metadata": {},
   "source": [
    "## 1. Introduction / Business Problem"
   ]
  },
  {
   "cell_type": "markdown",
   "metadata": {},
   "source": [
    "Opening a new restaurant can be a really exciting thing. But how do we decide where should we open our restaurant? There could be lots of factors that could potentially affect how the business would go, so choosing the right neighborhood is critical!\n",
    "\n",
    "Lucily, with the data science tools we have nowadays, we can analyze the neighborhoods and decide which one would be the best for opening a new restaurant. Here are a few factors that we should take into consideration."
   ]
  },
  {
   "cell_type": "markdown",
   "metadata": {},
   "source": [
    "### Factors that should be taken into consideration"
   ]
  },
  {
   "cell_type": "markdown",
   "metadata": {},
   "source": [
    "#### Cuisine Type "
   ]
  },
  {
   "cell_type": "markdown",
   "metadata": {},
   "source": [
    "Cuisin type is one of the most important things to consider when opening a restaurant. People from different neighborhoods may have very different tastes in food. But at the mean time, the customers who like a specific type of cuisine should share some common interests and characteristics. And these charachteristics can be analyzed using the data science tools we have learned in this series of courses."
   ]
  },
  {
   "cell_type": "markdown",
   "metadata": {},
   "source": [
    "#### Demographical Insights of the Neighborhoods"
   ]
  },
  {
   "cell_type": "markdown",
   "metadata": {},
   "source": [
    "Like the one mentioned above, demographical data can also affect how well the restaurant runs.It is very important to figure out the population of the neighborhoods and what are the preferences that people from different neighborhood have in order to choose the perfect place for a restaurant. By looking at the customers data, we should be able to find out which neiborhood enjoys what kind of food the most and how often do they go to a specific restaurant and so on."
   ]
  },
  {
   "cell_type": "markdown",
   "metadata": {},
   "source": [
    "#### Competing Restaurants"
   ]
  },
  {
   "cell_type": "markdown",
   "metadata": {},
   "source": [
    "Another factor we have to think is other restaurants. Fortunately, Foursquare can provide us with the data of each neighborhood with the information on their top restaurants and even photos and comments. So we can find out what kind of restaurant will have a potential to be a hit in each neighborhood. "
   ]
  },
  {
   "cell_type": "markdown",
   "metadata": {},
   "source": [
    "#### Lease and rent prices in each neighborhood"
   ]
  },
  {
   "cell_type": "markdown",
   "metadata": {},
   "source": [
    "Money is always important when it comes to business! We have to always keep in mind the expences and profits. So analyzing or predicting the profits for potential locations are also very crutial! If we can get the average price for renting spaces for our restaurant, it would really help us to make the predictions and maximize the profits."
   ]
  },
  {
   "cell_type": "markdown",
   "metadata": {},
   "source": [
    "### Objectives"
   ]
  },
  {
   "cell_type": "markdown",
   "metadata": {},
   "source": [
    "In this project, due to time and effort limits, I will be mainly focusing on analyzing the most popular restaurants in different neighborhoods in order to provide insights on the most suitable locations for restaruants that serve different types of cuisines."
   ]
  },
  {
   "cell_type": "markdown",
   "metadata": {},
   "source": [
    "## 2. Data"
   ]
  },
  {
   "cell_type": "markdown",
   "metadata": {},
   "source": [
    "The majority of the data used in this project will be taken fom Foursquare API, which is a crowd sourced, comprehensive geographical data source. With Foursquare API, we will be able to get insight on the most popular venues in each neighborhood, their photos, ratings and customer comments on those venues."
   ]
  },
  {
   "cell_type": "markdown",
   "metadata": {},
   "source": [
    "For this project, I will only be analyzing neighborhood in Manhattan because the large amount of resaurants and large diversity in population. I will use the information of these neighborhoods from Foursquare, especially the ratings and rankings for restaurants in different neighborhoods to get knowledge of the preferences of customers in each neighborhood. Their preferences will then help us decide the location of a new restaurant."
   ]
  },
  {
   "cell_type": "code",
   "execution_count": null,
   "metadata": {},
   "outputs": [],
   "source": []
  }
 ],
 "metadata": {
  "kernelspec": {
   "display_name": "Python 3",
   "language": "python",
   "name": "python3"
  },
  "language_info": {
   "codemirror_mode": {
    "name": "ipython",
    "version": 3
   },
   "file_extension": ".py",
   "mimetype": "text/x-python",
   "name": "python",
   "nbconvert_exporter": "python",
   "pygments_lexer": "ipython3",
   "version": "3.6.5"
  }
 },
 "nbformat": 4,
 "nbformat_minor": 2
}
